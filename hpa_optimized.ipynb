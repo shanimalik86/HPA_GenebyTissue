{
 "cells": [
  {
   "cell_type": "code",
   "execution_count": null,
   "metadata": {},
   "outputs": [],
   "source": [
    "import pandas as pd\n",
    "import numpy as np\n",
    "from datetime import date\n",
    "#df=pd.read_table(\"rna_single_cell_type_tissue.tsv\") \n",
    "\n",
    "url=\"https://www.proteinatlas.org/download/rna_single_cell_type_tissue.tsv.zip\"\n",
    "log=date.today()\n",
    "log=str(log)\n",
    "\n",
    "df=pd.read_table(url, compression='zip')\n",
    "df.columns = df.columns.str.replace(' ', '')\n",
    "\n",
    "#provide list of genes\n",
    "genes=[\"TSPAN2\",\"NTSR1\",\"PLAUR\"]\n",
    "\n",
    "def sc_celltype_tissue(Data, Gene, cutoff):\n",
    "    hpa=Data[((Data.Genename == Gene) & (Data.nTPM >= cutoff ))].groupby(['Tissue','Celltype'])['nTPM'].median().reset_index()\n",
    "    hpa['log2_nTPM']=np.log2(1+hpa.nTPM)\n",
    "    hpa_sorted=hpa.sort_values(by='log2_nTPM',ascending=False).groupby('Tissue').nth((0,1,2)).reset_index()\n",
    "    return(hpa_sorted)\n",
    "\n",
    "def ploting(hpa_dat, gene):\n",
    "    import plotly.express as px\n",
    "    import matplotlib.pyplot as plt\n",
    "    fig = px.scatter(hpa_plot, x=\"Tissue\", y=\"log2_nTPM\", color=\"log2_nTPM\", size='log2_nTPM', \n",
    "    hover_data=['log2_nTPM'], text=\"Celltype\",size_max=18)\n",
    "    fig.update_traces(textposition='top center')\n",
    "    fig.update_layout(height=800,width=2000,title_text=gene+\" Expression: Top 3 Cell Types per Tissue                     \"+\"(Date: \"+log+\")\",\n",
    "    \n",
    "    \n",
    "    plot_bgcolor=\"#F8F8FF\",\n",
    "    font=dict(family=\"sans-serif\",size=12,color='#000000'),hoverlabel=dict(font=dict(family='sans-serif', size=16)))\n",
    "\n",
    "    fig.update_xaxes(title_text='Tissue')\n",
    "    fig.update_yaxes(title_text='Log2(1+ median nTPM)')\n",
    "\n",
    "    fig.write_html(gene+\"_\"+\"Top 3 Celll Types per Tissue.html\")\n",
    "    fig.show()\n",
    "\n",
    "\n",
    "#HPA sc tissue data, Gene name, nTPM threshold, number of top cell types to select\n",
    "# provide dataframe which has Tissues, Celltype and log_nTPM\n",
    "for g in genes:\n",
    "    hpa_plot=sc_celltype_tissue(df, g, 0.25)\n",
    "    ploting(hpa_plot, g)"
   ]
  }
 ],
 "metadata": {
  "kernelspec": {
   "display_name": "local-venv",
   "language": "python",
   "name": "local-venv"
  },
  "orig_nbformat": 4
 },
 "nbformat": 4,
 "nbformat_minor": 2
}
