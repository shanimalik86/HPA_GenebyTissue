{
 "cells": [
  {
   "cell_type": "code",
   "execution_count": 81,
   "metadata": {},
   "outputs": [],
   "source": [
    "import pandas as pd\n",
    "import numpy as np\n",
    "import scipy.stats as stats\n",
    "\n",
    "#path ='C:\\Users\\zeeshan.fazal\\Desktop\\NASH\\Target_ID'\n",
    "df1=pd.read_table('rna_tissue_consensus_gene.tsv')\n",
    "df2=pd.read_csv('TargetData_LFC2_counts_by_gene_group.csv')\n",
    "merged=pd.merge(df1, df2, on='GeneName', how='inner')\n",
    "df3=merged.groupby(['GeneName'])['nTPM'].median().reset_index()\n",
    "final=pd.merge(df2, df3, on='GeneName', how='inner')\n",
    "#final.to_csv('TargetData_LFC2_counts_by_gene_group_by_tissuemedian.csv')"
   ]
  },
  {
   "cell_type": "code",
   "execution_count": 96,
   "metadata": {},
   "outputs": [],
   "source": [
    "top5=merged[((merged.nTPM >= 10 ))].groupby(['GeneName', 'Tissue']).head(5)\n",
    "top5_sorted=top5.sort_values(by='nTPM',ascending=False).groupby('Tissue').nth((0,1,2,3,4)).reset_index()\n",
    "#top5.groupby(['GeneName']).head().reset_index()"
   ]
  },
  {
   "cell_type": "code",
   "execution_count": 47,
   "metadata": {},
   "outputs": [],
   "source": [
    "#zscore = lambda x: (x - x.mean()) / x.std()\n",
    "#df1['Z-score']=df1.groupby(['GeneName'])['nTPM'].transform(zscore)\n",
    "#grouped_median=df1.groupby(['GeneName'])['Z-score'].median().reset_index()\n",
    "#merged=pd.merge(df2, grouped_median, on='GeneName', how='inner')\n",
    "#merged.to_csv('TargetData_LFC2_counts_by_gene_group_by_tissue_medianZscore.csv')"
   ]
  }
 ],
 "metadata": {
  "kernelspec": {
   "display_name": "local-venv",
   "language": "python",
   "name": "local-venv"
  },
  "language_info": {
   "codemirror_mode": {
    "name": "ipython",
    "version": 3
   },
   "file_extension": ".py",
   "mimetype": "text/x-python",
   "name": "python",
   "nbconvert_exporter": "python",
   "pygments_lexer": "ipython3",
   "version": "3.8.10"
  },
  "orig_nbformat": 4
 },
 "nbformat": 4,
 "nbformat_minor": 2
}
